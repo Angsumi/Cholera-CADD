{
  "nbformat": 4,
  "nbformat_minor": 0,
  "metadata": {
    "colab": {
      "name": "New drug.ipynb",
      "provenance": [],
      "collapsed_sections": [],
      "authorship_tag": "ABX9TyN96D9qSSe46BRQ9Z2+GjSq",
      "include_colab_link": true
    },
    "kernelspec": {
      "name": "python3",
      "display_name": "Python 3"
    }
  },
  "cells": [
    {
      "cell_type": "markdown",
      "metadata": {
        "id": "view-in-github",
        "colab_type": "text"
      },
      "source": [
        "<a href=\"https://colab.research.google.com/github/Angsumi/Cholera-CADD/blob/main/New_drug.ipynb\" target=\"_parent\"><img src=\"https://colab.research.google.com/assets/colab-badge.svg\" alt=\"Open In Colab\"/></a>"
      ]
    },
    {
      "cell_type": "code",
      "metadata": {
        "id": "735PImakkSYt",
        "colab": {
          "base_uri": "https://localhost:8080/"
        },
        "outputId": "f7014d99-fadd-4703-b4e1-274b708b5576"
      },
      "source": [
        "!pip install chembl_webresource_client\n",
        "\n"
      ],
      "execution_count": null,
      "outputs": [
        {
          "output_type": "stream",
          "text": [
            "Collecting chembl_webresource_client\n",
            "\u001b[?25l  Downloading https://files.pythonhosted.org/packages/2e/48/0db29040c92726fcc6f99a5bc89e0ea8cf5a9d84753ebaaf53108792da2a/chembl-webresource-client-0.10.2.tar.gz (51kB)\n",
            "\r\u001b[K     |██████▍                         | 10kB 16.3MB/s eta 0:00:01\r\u001b[K     |████████████▊                   | 20kB 21.3MB/s eta 0:00:01\r\u001b[K     |███████████████████             | 30kB 13.5MB/s eta 0:00:01\r\u001b[K     |█████████████████████████▍      | 40kB 10.7MB/s eta 0:00:01\r\u001b[K     |███████████████████████████████▊| 51kB 10.0MB/s eta 0:00:01\r\u001b[K     |████████████████████████████████| 61kB 4.1MB/s \n",
            "\u001b[?25hRequirement already satisfied: urllib3 in /usr/local/lib/python3.6/dist-packages (from chembl_webresource_client) (1.24.3)\n",
            "Requirement already satisfied: requests>=2.18.4 in /usr/local/lib/python3.6/dist-packages (from chembl_webresource_client) (2.23.0)\n",
            "Collecting requests-cache>=0.4.7\n",
            "  Downloading https://files.pythonhosted.org/packages/7f/55/9b1c40eb83c16d8fc79c5f6c2ffade04208b080670fbfc35e0a5effb5a92/requests_cache-0.5.2-py2.py3-none-any.whl\n",
            "Requirement already satisfied: easydict in /usr/local/lib/python3.6/dist-packages (from chembl_webresource_client) (1.9)\n",
            "Requirement already satisfied: idna<3,>=2.5 in /usr/local/lib/python3.6/dist-packages (from requests>=2.18.4->chembl_webresource_client) (2.10)\n",
            "Requirement already satisfied: certifi>=2017.4.17 in /usr/local/lib/python3.6/dist-packages (from requests>=2.18.4->chembl_webresource_client) (2020.12.5)\n",
            "Requirement already satisfied: chardet<4,>=3.0.2 in /usr/local/lib/python3.6/dist-packages (from requests>=2.18.4->chembl_webresource_client) (3.0.4)\n",
            "Building wheels for collected packages: chembl-webresource-client\n",
            "  Building wheel for chembl-webresource-client (setup.py) ... \u001b[?25l\u001b[?25hdone\n",
            "  Created wheel for chembl-webresource-client: filename=chembl_webresource_client-0.10.2-cp36-none-any.whl size=55663 sha256=b23fe96fc608a2bcffc25e223cdc99972841408a7bebb279a49a07f929a22502\n",
            "  Stored in directory: /root/.cache/pip/wheels/e6/96/19/3f042bfda7c669bfe24c8278477f57b0fbbf3e488b4c09e3a8\n",
            "Successfully built chembl-webresource-client\n",
            "Installing collected packages: requests-cache, chembl-webresource-client\n",
            "Successfully installed chembl-webresource-client-0.10.2 requests-cache-0.5.2\n"
          ],
          "name": "stdout"
        }
      ]
    },
    {
      "cell_type": "code",
      "metadata": {
        "id": "Lx8AXuUAugFt"
      },
      "source": [
        "from chembl_webresource_client.new_client import new_client\n",
        "import pandas as pd"
      ],
      "execution_count": null,
      "outputs": []
    },
    {
      "cell_type": "code",
      "metadata": {
        "colab": {
          "base_uri": "https://localhost:8080/",
          "height": 230
        },
        "id": "7pPBOsf-pWL8",
        "outputId": "c3e255ac-6d37-4962-8353-40b2b750b760"
      },
      "source": [
        "target = new_client.target\r\n",
        "target_query = target.search('Cholera')\r\n",
        "targets = pd.DataFrame.from_dict(target_query)\r\n",
        "targets"
      ],
      "execution_count": null,
      "outputs": [
        {
          "output_type": "execute_result",
          "data": {
            "text/html": [
              "<div>\n",
              "<style scoped>\n",
              "    .dataframe tbody tr th:only-of-type {\n",
              "        vertical-align: middle;\n",
              "    }\n",
              "\n",
              "    .dataframe tbody tr th {\n",
              "        vertical-align: top;\n",
              "    }\n",
              "\n",
              "    .dataframe thead th {\n",
              "        text-align: right;\n",
              "    }\n",
              "</style>\n",
              "<table border=\"1\" class=\"dataframe\">\n",
              "  <thead>\n",
              "    <tr style=\"text-align: right;\">\n",
              "      <th></th>\n",
              "      <th>cross_references</th>\n",
              "      <th>organism</th>\n",
              "      <th>pref_name</th>\n",
              "      <th>score</th>\n",
              "      <th>species_group_flag</th>\n",
              "      <th>target_chembl_id</th>\n",
              "      <th>target_components</th>\n",
              "      <th>target_type</th>\n",
              "      <th>tax_id</th>\n",
              "    </tr>\n",
              "  </thead>\n",
              "  <tbody>\n",
              "    <tr>\n",
              "      <th>0</th>\n",
              "      <td>[]</td>\n",
              "      <td>Vibrio cholerae</td>\n",
              "      <td>Vibrio cholerae</td>\n",
              "      <td>8.0</td>\n",
              "      <td>False</td>\n",
              "      <td>CHEMBL614402</td>\n",
              "      <td>[]</td>\n",
              "      <td>ORGANISM</td>\n",
              "      <td>666</td>\n",
              "    </tr>\n",
              "    <tr>\n",
              "      <th>1</th>\n",
              "      <td>[]</td>\n",
              "      <td>Vibrio cholerae serotype O1 (strain ATCC 39315...</td>\n",
              "      <td>CAI-1 autoinducer sensor kinase/phosphatase CqsS</td>\n",
              "      <td>8.0</td>\n",
              "      <td>False</td>\n",
              "      <td>CHEMBL1921662</td>\n",
              "      <td>[{'accession': 'Q9KM66', 'component_descriptio...</td>\n",
              "      <td>SINGLE PROTEIN</td>\n",
              "      <td>243277</td>\n",
              "    </tr>\n",
              "  </tbody>\n",
              "</table>\n",
              "</div>"
            ],
            "text/plain": [
              "  cross_references  ...  tax_id\n",
              "0               []  ...     666\n",
              "1               []  ...  243277\n",
              "\n",
              "[2 rows x 9 columns]"
            ]
          },
          "metadata": {
            "tags": []
          },
          "execution_count": 3
        }
      ]
    },
    {
      "cell_type": "code",
      "metadata": {
        "id": "Qno-Wuz6pdgs"
      },
      "source": [
        "ac=new_client.activity\r\n"
      ],
      "execution_count": null,
      "outputs": []
    },
    {
      "cell_type": "code",
      "metadata": {
        "id": "nBUx7CmjrH7v"
      },
      "source": [
        "activity = ac.filter(chembl_id='CHEMBL1921662').filter(standard_type='IC50')[1:1000]"
      ],
      "execution_count": null,
      "outputs": []
    },
    {
      "cell_type": "code",
      "metadata": {
        "id": "FYDDchPsvTgp"
      },
      "source": [
        "ok=pd.DataFrame(activity)"
      ],
      "execution_count": null,
      "outputs": []
    },
    {
      "cell_type": "code",
      "metadata": {
        "id": "UNPcRbUY0X0K"
      },
      "source": [
        "columns=['molecule_chembl_id', 'canonical_smiles', 'standard_value']\r\n",
        "activity_data = pd.DataFrame(ok, columns=columns)"
      ],
      "execution_count": null,
      "outputs": []
    },
    {
      "cell_type": "code",
      "metadata": {
        "id": "rDISAH5r2sgB",
        "colab": {
          "base_uri": "https://localhost:8080/",
          "height": 107
        },
        "outputId": "bebe87bb-14b1-4bf7-d86f-600d2cb6809c"
      },
      "source": [
        "activity_data.head(2)"
      ],
      "execution_count": null,
      "outputs": [
        {
          "output_type": "execute_result",
          "data": {
            "text/html": [
              "<div>\n",
              "<style scoped>\n",
              "    .dataframe tbody tr th:only-of-type {\n",
              "        vertical-align: middle;\n",
              "    }\n",
              "\n",
              "    .dataframe tbody tr th {\n",
              "        vertical-align: top;\n",
              "    }\n",
              "\n",
              "    .dataframe thead th {\n",
              "        text-align: right;\n",
              "    }\n",
              "</style>\n",
              "<table border=\"1\" class=\"dataframe\">\n",
              "  <thead>\n",
              "    <tr style=\"text-align: right;\">\n",
              "      <th></th>\n",
              "      <th>molecule_chembl_id</th>\n",
              "      <th>canonical_smiles</th>\n",
              "      <th>standard_value</th>\n",
              "    </tr>\n",
              "  </thead>\n",
              "  <tbody>\n",
              "    <tr>\n",
              "      <th>0</th>\n",
              "      <td>CHEMBL324340</td>\n",
              "      <td>Cc1ccc2oc(-c3cccc(N4C(=O)c5ccc(C(=O)O)cc5C4=O)...</td>\n",
              "      <td>2500.0</td>\n",
              "    </tr>\n",
              "    <tr>\n",
              "      <th>1</th>\n",
              "      <td>CHEMBL324340</td>\n",
              "      <td>Cc1ccc2oc(-c3cccc(N4C(=O)c5ccc(C(=O)O)cc5C4=O)...</td>\n",
              "      <td>50000.0</td>\n",
              "    </tr>\n",
              "  </tbody>\n",
              "</table>\n",
              "</div>"
            ],
            "text/plain": [
              "  molecule_chembl_id  ... standard_value\n",
              "0       CHEMBL324340  ...         2500.0\n",
              "1       CHEMBL324340  ...        50000.0\n",
              "\n",
              "[2 rows x 3 columns]"
            ]
          },
          "metadata": {
            "tags": []
          },
          "execution_count": 8
        }
      ]
    },
    {
      "cell_type": "code",
      "metadata": {
        "id": "fbMu-VzH_7Pf"
      },
      "source": [
        "activity_data.dropna(inplace=True)\r\n",
        "activity_data.shape\r\n",
        "activity_data.reset_index(drop=True,inplace=True)"
      ],
      "execution_count": null,
      "outputs": []
    },
    {
      "cell_type": "code",
      "metadata": {
        "colab": {
          "base_uri": "https://localhost:8080/"
        },
        "id": "gvu9rf6s_Hq-",
        "outputId": "769e0cac-8b27-49fb-9035-1cb080e28d5e"
      },
      "source": [
        "activity_class=[]\r\n",
        "number=0\r\n",
        "for i in activity_data.standard_value:\r\n",
        "  number += 1\r\n",
        "  if float(i)<1000:\r\n",
        "    activity_class.append('active')\r\n",
        "  elif float(i)>1000 and float(i)<10000:\r\n",
        "    activity_class.append('intermediate')\r\n",
        "  else:\r\n",
        "    activity_class.append('inactive')\r\n",
        "number"
      ],
      "execution_count": null,
      "outputs": [
        {
          "output_type": "execute_result",
          "data": {
            "text/plain": [
              "972"
            ]
          },
          "metadata": {
            "tags": []
          },
          "execution_count": 10
        }
      ]
    },
    {
      "cell_type": "code",
      "metadata": {
        "id": "WJwLeCp9AoVI"
      },
      "source": [
        "data1 = pd.concat([activity_data, pd.Series(activity_class)], axis=1)"
      ],
      "execution_count": null,
      "outputs": []
    },
    {
      "cell_type": "code",
      "metadata": {
        "id": "9gai72iVRDZC",
        "colab": {
          "base_uri": "https://localhost:8080/",
          "height": 403
        },
        "outputId": "0d8f11cb-ec50-4ebe-9b4a-7c234fafc363"
      },
      "source": [
        "data1"
      ],
      "execution_count": null,
      "outputs": [
        {
          "output_type": "execute_result",
          "data": {
            "text/html": [
              "<div>\n",
              "<style scoped>\n",
              "    .dataframe tbody tr th:only-of-type {\n",
              "        vertical-align: middle;\n",
              "    }\n",
              "\n",
              "    .dataframe tbody tr th {\n",
              "        vertical-align: top;\n",
              "    }\n",
              "\n",
              "    .dataframe thead th {\n",
              "        text-align: right;\n",
              "    }\n",
              "</style>\n",
              "<table border=\"1\" class=\"dataframe\">\n",
              "  <thead>\n",
              "    <tr style=\"text-align: right;\">\n",
              "      <th></th>\n",
              "      <th>molecule_chembl_id</th>\n",
              "      <th>canonical_smiles</th>\n",
              "      <th>standard_value</th>\n",
              "      <th>0</th>\n",
              "    </tr>\n",
              "  </thead>\n",
              "  <tbody>\n",
              "    <tr>\n",
              "      <th>0</th>\n",
              "      <td>CHEMBL324340</td>\n",
              "      <td>Cc1ccc2oc(-c3cccc(N4C(=O)c5ccc(C(=O)O)cc5C4=O)...</td>\n",
              "      <td>2500.0</td>\n",
              "      <td>intermediate</td>\n",
              "    </tr>\n",
              "    <tr>\n",
              "      <th>1</th>\n",
              "      <td>CHEMBL324340</td>\n",
              "      <td>Cc1ccc2oc(-c3cccc(N4C(=O)c5ccc(C(=O)O)cc5C4=O)...</td>\n",
              "      <td>50000.0</td>\n",
              "      <td>inactive</td>\n",
              "    </tr>\n",
              "    <tr>\n",
              "      <th>2</th>\n",
              "      <td>CHEMBL109600</td>\n",
              "      <td>COc1ccccc1-c1ccc2oc(-c3ccc(OC)c(N4C(=O)c5ccc(C...</td>\n",
              "      <td>9000.0</td>\n",
              "      <td>intermediate</td>\n",
              "    </tr>\n",
              "    <tr>\n",
              "      <th>3</th>\n",
              "      <td>CHEMBL357278</td>\n",
              "      <td>Cc1nc2cc(OC[C@H](O)CN3CCN(CC(=O)Nc4ccc(Cl)c(C(...</td>\n",
              "      <td>4000.0</td>\n",
              "      <td>intermediate</td>\n",
              "    </tr>\n",
              "    <tr>\n",
              "      <th>4</th>\n",
              "      <td>CHEMBL357119</td>\n",
              "      <td>Cc1nc2cc(OC[C@H](O)CN3CCN(CC(=O)NCCc4ccccc4)CC...</td>\n",
              "      <td>17000.0</td>\n",
              "      <td>inactive</td>\n",
              "    </tr>\n",
              "    <tr>\n",
              "      <th>...</th>\n",
              "      <td>...</td>\n",
              "      <td>...</td>\n",
              "      <td>...</td>\n",
              "      <td>...</td>\n",
              "    </tr>\n",
              "    <tr>\n",
              "      <th>967</th>\n",
              "      <td>CHEMBL87187</td>\n",
              "      <td>Nc1cccc(-c2ccc(CCN3CCN(c4cccc5cccnc45)CC3)cc2)n1</td>\n",
              "      <td>130.0</td>\n",
              "      <td>active</td>\n",
              "    </tr>\n",
              "    <tr>\n",
              "      <th>968</th>\n",
              "      <td>CHEMBL87187</td>\n",
              "      <td>Nc1cccc(-c2ccc(CCN3CCN(c4cccc5cccnc45)CC3)cc2)n1</td>\n",
              "      <td>212.0</td>\n",
              "      <td>active</td>\n",
              "    </tr>\n",
              "    <tr>\n",
              "      <th>969</th>\n",
              "      <td>CHEMBL87187</td>\n",
              "      <td>Nc1cccc(-c2ccc(CCN3CCN(c4cccc5cccnc45)CC3)cc2)n1</td>\n",
              "      <td>825.0</td>\n",
              "      <td>active</td>\n",
              "    </tr>\n",
              "    <tr>\n",
              "      <th>970</th>\n",
              "      <td>CHEMBL62565</td>\n",
              "      <td>c1cnc(N2CCN(Cc3cccc4c3sc3ccccc34)CC2)nc1</td>\n",
              "      <td>100.0</td>\n",
              "      <td>active</td>\n",
              "    </tr>\n",
              "    <tr>\n",
              "      <th>971</th>\n",
              "      <td>CHEMBL120853</td>\n",
              "      <td>C[C@@H]1C(=O)N(C(=O)NCc2ccccc2)[C@@H]1Oc1ccc(C...</td>\n",
              "      <td>100000.0</td>\n",
              "      <td>inactive</td>\n",
              "    </tr>\n",
              "  </tbody>\n",
              "</table>\n",
              "<p>972 rows × 4 columns</p>\n",
              "</div>"
            ],
            "text/plain": [
              "    molecule_chembl_id  ...             0\n",
              "0         CHEMBL324340  ...  intermediate\n",
              "1         CHEMBL324340  ...      inactive\n",
              "2         CHEMBL109600  ...  intermediate\n",
              "3         CHEMBL357278  ...  intermediate\n",
              "4         CHEMBL357119  ...      inactive\n",
              "..                 ...  ...           ...\n",
              "967        CHEMBL87187  ...        active\n",
              "968        CHEMBL87187  ...        active\n",
              "969        CHEMBL87187  ...        active\n",
              "970        CHEMBL62565  ...        active\n",
              "971       CHEMBL120853  ...      inactive\n",
              "\n",
              "[972 rows x 4 columns]"
            ]
          },
          "metadata": {
            "tags": []
          },
          "execution_count": 12
        }
      ]
    },
    {
      "cell_type": "code",
      "metadata": {
        "colab": {
          "base_uri": "https://localhost:8080/",
          "height": 165
        },
        "id": "eUWALCe6Dops",
        "outputId": "77c48d3b-1c63-476a-f77c-9be3015292cf"
      },
      "source": [
        "data.to_csv('Activity_data_final.csv')"
      ],
      "execution_count": null,
      "outputs": [
        {
          "output_type": "error",
          "ename": "NameError",
          "evalue": "ignored",
          "traceback": [
            "\u001b[0;31m---------------------------------------------------------------------------\u001b[0m",
            "\u001b[0;31mNameError\u001b[0m                                 Traceback (most recent call last)",
            "\u001b[0;32m<ipython-input-13-73dec4a1f934>\u001b[0m in \u001b[0;36m<module>\u001b[0;34m()\u001b[0m\n\u001b[0;32m----> 1\u001b[0;31m \u001b[0mdata\u001b[0m\u001b[0;34m.\u001b[0m\u001b[0mto_csv\u001b[0m\u001b[0;34m(\u001b[0m\u001b[0;34m'Activity_data_final.csv'\u001b[0m\u001b[0;34m)\u001b[0m\u001b[0;34m\u001b[0m\u001b[0;34m\u001b[0m\u001b[0m\n\u001b[0m",
            "\u001b[0;31mNameError\u001b[0m: name 'data' is not defined"
          ]
        }
      ]
    },
    {
      "cell_type": "code",
      "metadata": {
        "id": "Ni32Kn5tFJ5t"
      },
      "source": [
        "! wget https://repo.anaconda.com/miniconda/Miniconda3-py37_4.8.2-Linux-x86_64.sh\r\n",
        "! chmod +x Miniconda3-py37_4.8.2-Linux-x86_64.sh\r\n",
        "! bash ./Miniconda3-py37_4.8.2-Linux-x86_64.sh -b -f -p /usr/local\r\n",
        "! conda install -c rdkit rdkit -y\r\n",
        "import sys\r\n",
        "sys.path.append('/usr/local/lib/python3.7/site-packages/')"
      ],
      "execution_count": null,
      "outputs": []
    },
    {
      "cell_type": "code",
      "metadata": {
        "id": "4rp05jI2HTyL"
      },
      "source": [
        "import numpy as np\r\n",
        "from rdkit import Chem\r\n",
        "from rdkit.Chem import Descriptors, Lipinski"
      ],
      "execution_count": null,
      "outputs": []
    },
    {
      "cell_type": "code",
      "metadata": {
        "id": "g4OMF3yXJ9ep"
      },
      "source": [
        "def lipinski(smiles, verbose=False):\r\n",
        "\r\n",
        "    moldata= []\r\n",
        "    for elem in smiles:\r\n",
        "        mol=Chem.MolFromSmiles(elem) \r\n",
        "        moldata.append(mol)\r\n",
        "       \r\n",
        "    baseData= np.arange(1,1)\r\n",
        "    i=0  \r\n",
        "    for mol in moldata:        \r\n",
        "       \r\n",
        "        desc_MolWt = Descriptors.MolWt(mol)\r\n",
        "        desc_MolLogP = Descriptors.MolLogP(mol)\r\n",
        "        desc_NumHDonors = Lipinski.NumHDonors(mol)\r\n",
        "        desc_NumHAcceptors = Lipinski.NumHAcceptors(mol)\r\n",
        "           \r\n",
        "        row = np.array([desc_MolWt,\r\n",
        "                        desc_MolLogP,\r\n",
        "                        desc_NumHDonors,\r\n",
        "                        desc_NumHAcceptors])   \r\n",
        "    \r\n",
        "        if(i==0):\r\n",
        "            baseData=row\r\n",
        "        else:\r\n",
        "            baseData=np.vstack([baseData, row])\r\n",
        "        i=i+1      \r\n",
        "    \r\n",
        "    columnNames=[\"MW\",\"LogP\",\"NumHDonors\",\"NumHAcceptors\"]   \r\n",
        "    descriptors = pd.DataFrame(data=baseData,columns=columnNames)\r\n",
        "    \r\n",
        "    return descriptors"
      ],
      "execution_count": null,
      "outputs": []
    },
    {
      "cell_type": "code",
      "metadata": {
        "colab": {
          "base_uri": "https://localhost:8080/",
          "height": 137
        },
        "id": "tJA4hiN1Khkc",
        "outputId": "9beed2b4-2927-403d-8212-b60473cd48ae"
      },
      "source": [
        "ok=lipinski(data1.canonical_smiles)\r\n",
        "ok.tail(3)"
      ],
      "execution_count": null,
      "outputs": [
        {
          "output_type": "execute_result",
          "data": {
            "text/html": [
              "<div>\n",
              "<style scoped>\n",
              "    .dataframe tbody tr th:only-of-type {\n",
              "        vertical-align: middle;\n",
              "    }\n",
              "\n",
              "    .dataframe tbody tr th {\n",
              "        vertical-align: top;\n",
              "    }\n",
              "\n",
              "    .dataframe thead th {\n",
              "        text-align: right;\n",
              "    }\n",
              "</style>\n",
              "<table border=\"1\" class=\"dataframe\">\n",
              "  <thead>\n",
              "    <tr style=\"text-align: right;\">\n",
              "      <th></th>\n",
              "      <th>MW</th>\n",
              "      <th>LogP</th>\n",
              "      <th>NumHDonors</th>\n",
              "      <th>NumHAcceptors</th>\n",
              "    </tr>\n",
              "  </thead>\n",
              "  <tbody>\n",
              "    <tr>\n",
              "      <th>969</th>\n",
              "      <td>409.537</td>\n",
              "      <td>4.2437</td>\n",
              "      <td>1.0</td>\n",
              "      <td>5.0</td>\n",
              "    </tr>\n",
              "    <tr>\n",
              "      <th>970</th>\n",
              "      <td>360.486</td>\n",
              "      <td>4.1667</td>\n",
              "      <td>0.0</td>\n",
              "      <td>5.0</td>\n",
              "    </tr>\n",
              "    <tr>\n",
              "      <th>971</th>\n",
              "      <td>354.362</td>\n",
              "      <td>2.4778</td>\n",
              "      <td>2.0</td>\n",
              "      <td>4.0</td>\n",
              "    </tr>\n",
              "  </tbody>\n",
              "</table>\n",
              "</div>"
            ],
            "text/plain": [
              "          MW    LogP  NumHDonors  NumHAcceptors\n",
              "969  409.537  4.2437         1.0            5.0\n",
              "970  360.486  4.1667         0.0            5.0\n",
              "971  354.362  2.4778         2.0            4.0"
            ]
          },
          "metadata": {
            "tags": []
          },
          "execution_count": 17
        }
      ]
    },
    {
      "cell_type": "code",
      "metadata": {
        "id": "e1jtPYXROLFn"
      },
      "source": [
        "grouped_data = pd.concat([data1, ok], axis=1)"
      ],
      "execution_count": null,
      "outputs": []
    },
    {
      "cell_type": "code",
      "metadata": {
        "colab": {
          "base_uri": "https://localhost:8080/",
          "height": 578
        },
        "id": "_1WKd8JuPnOh",
        "outputId": "710a7467-7664-46d2-ac9e-afd1b18a22cb"
      },
      "source": [
        "grouped_data"
      ],
      "execution_count": null,
      "outputs": [
        {
          "output_type": "execute_result",
          "data": {
            "text/html": [
              "<div>\n",
              "<style scoped>\n",
              "    .dataframe tbody tr th:only-of-type {\n",
              "        vertical-align: middle;\n",
              "    }\n",
              "\n",
              "    .dataframe tbody tr th {\n",
              "        vertical-align: top;\n",
              "    }\n",
              "\n",
              "    .dataframe thead th {\n",
              "        text-align: right;\n",
              "    }\n",
              "</style>\n",
              "<table border=\"1\" class=\"dataframe\">\n",
              "  <thead>\n",
              "    <tr style=\"text-align: right;\">\n",
              "      <th></th>\n",
              "      <th>molecule_chembl_id</th>\n",
              "      <th>canonical_smiles</th>\n",
              "      <th>standard_value</th>\n",
              "      <th>0</th>\n",
              "      <th>MW</th>\n",
              "      <th>LogP</th>\n",
              "      <th>NumHDonors</th>\n",
              "      <th>NumHAcceptors</th>\n",
              "    </tr>\n",
              "  </thead>\n",
              "  <tbody>\n",
              "    <tr>\n",
              "      <th>0</th>\n",
              "      <td>CHEMBL324340</td>\n",
              "      <td>Cc1ccc2oc(-c3cccc(N4C(=O)c5ccc(C(=O)O)cc5C4=O)...</td>\n",
              "      <td>2500.0</td>\n",
              "      <td>intermediate</td>\n",
              "      <td>398.374</td>\n",
              "      <td>4.30202</td>\n",
              "      <td>1.0</td>\n",
              "      <td>5.0</td>\n",
              "    </tr>\n",
              "    <tr>\n",
              "      <th>1</th>\n",
              "      <td>CHEMBL324340</td>\n",
              "      <td>Cc1ccc2oc(-c3cccc(N4C(=O)c5ccc(C(=O)O)cc5C4=O)...</td>\n",
              "      <td>50000.0</td>\n",
              "      <td>inactive</td>\n",
              "      <td>398.374</td>\n",
              "      <td>4.30202</td>\n",
              "      <td>1.0</td>\n",
              "      <td>5.0</td>\n",
              "    </tr>\n",
              "    <tr>\n",
              "      <th>2</th>\n",
              "      <td>CHEMBL109600</td>\n",
              "      <td>COc1ccccc1-c1ccc2oc(-c3ccc(OC)c(N4C(=O)c5ccc(C...</td>\n",
              "      <td>9000.0</td>\n",
              "      <td>intermediate</td>\n",
              "      <td>520.497</td>\n",
              "      <td>5.67780</td>\n",
              "      <td>1.0</td>\n",
              "      <td>7.0</td>\n",
              "    </tr>\n",
              "    <tr>\n",
              "      <th>3</th>\n",
              "      <td>CHEMBL357278</td>\n",
              "      <td>Cc1nc2cc(OC[C@H](O)CN3CCN(CC(=O)Nc4ccc(Cl)c(C(...</td>\n",
              "      <td>4000.0</td>\n",
              "      <td>intermediate</td>\n",
              "      <td>543.011</td>\n",
              "      <td>4.27292</td>\n",
              "      <td>2.0</td>\n",
              "      <td>7.0</td>\n",
              "    </tr>\n",
              "    <tr>\n",
              "      <th>4</th>\n",
              "      <td>CHEMBL357119</td>\n",
              "      <td>Cc1nc2cc(OC[C@H](O)CN3CCN(CC(=O)NCCc4ccccc4)CC...</td>\n",
              "      <td>17000.0</td>\n",
              "      <td>inactive</td>\n",
              "      <td>468.623</td>\n",
              "      <td>2.32092</td>\n",
              "      <td>2.0</td>\n",
              "      <td>7.0</td>\n",
              "    </tr>\n",
              "    <tr>\n",
              "      <th>...</th>\n",
              "      <td>...</td>\n",
              "      <td>...</td>\n",
              "      <td>...</td>\n",
              "      <td>...</td>\n",
              "      <td>...</td>\n",
              "      <td>...</td>\n",
              "      <td>...</td>\n",
              "      <td>...</td>\n",
              "    </tr>\n",
              "    <tr>\n",
              "      <th>967</th>\n",
              "      <td>CHEMBL87187</td>\n",
              "      <td>Nc1cccc(-c2ccc(CCN3CCN(c4cccc5cccnc45)CC3)cc2)n1</td>\n",
              "      <td>130.0</td>\n",
              "      <td>active</td>\n",
              "      <td>409.537</td>\n",
              "      <td>4.24370</td>\n",
              "      <td>1.0</td>\n",
              "      <td>5.0</td>\n",
              "    </tr>\n",
              "    <tr>\n",
              "      <th>968</th>\n",
              "      <td>CHEMBL87187</td>\n",
              "      <td>Nc1cccc(-c2ccc(CCN3CCN(c4cccc5cccnc45)CC3)cc2)n1</td>\n",
              "      <td>212.0</td>\n",
              "      <td>active</td>\n",
              "      <td>409.537</td>\n",
              "      <td>4.24370</td>\n",
              "      <td>1.0</td>\n",
              "      <td>5.0</td>\n",
              "    </tr>\n",
              "    <tr>\n",
              "      <th>969</th>\n",
              "      <td>CHEMBL87187</td>\n",
              "      <td>Nc1cccc(-c2ccc(CCN3CCN(c4cccc5cccnc45)CC3)cc2)n1</td>\n",
              "      <td>825.0</td>\n",
              "      <td>active</td>\n",
              "      <td>409.537</td>\n",
              "      <td>4.24370</td>\n",
              "      <td>1.0</td>\n",
              "      <td>5.0</td>\n",
              "    </tr>\n",
              "    <tr>\n",
              "      <th>970</th>\n",
              "      <td>CHEMBL62565</td>\n",
              "      <td>c1cnc(N2CCN(Cc3cccc4c3sc3ccccc34)CC2)nc1</td>\n",
              "      <td>100.0</td>\n",
              "      <td>active</td>\n",
              "      <td>360.486</td>\n",
              "      <td>4.16670</td>\n",
              "      <td>0.0</td>\n",
              "      <td>5.0</td>\n",
              "    </tr>\n",
              "    <tr>\n",
              "      <th>971</th>\n",
              "      <td>CHEMBL120853</td>\n",
              "      <td>C[C@@H]1C(=O)N(C(=O)NCc2ccccc2)[C@@H]1Oc1ccc(C...</td>\n",
              "      <td>100000.0</td>\n",
              "      <td>inactive</td>\n",
              "      <td>354.362</td>\n",
              "      <td>2.47780</td>\n",
              "      <td>2.0</td>\n",
              "      <td>4.0</td>\n",
              "    </tr>\n",
              "  </tbody>\n",
              "</table>\n",
              "<p>972 rows × 8 columns</p>\n",
              "</div>"
            ],
            "text/plain": [
              "    molecule_chembl_id  ... NumHAcceptors\n",
              "0         CHEMBL324340  ...           5.0\n",
              "1         CHEMBL324340  ...           5.0\n",
              "2         CHEMBL109600  ...           7.0\n",
              "3         CHEMBL357278  ...           7.0\n",
              "4         CHEMBL357119  ...           7.0\n",
              "..                 ...  ...           ...\n",
              "967        CHEMBL87187  ...           5.0\n",
              "968        CHEMBL87187  ...           5.0\n",
              "969        CHEMBL87187  ...           5.0\n",
              "970        CHEMBL62565  ...           5.0\n",
              "971       CHEMBL120853  ...           4.0\n",
              "\n",
              "[972 rows x 8 columns]"
            ]
          },
          "metadata": {
            "tags": []
          },
          "execution_count": 64
        }
      ]
    },
    {
      "cell_type": "code",
      "metadata": {
        "id": "RxndgP-YPtZy"
      },
      "source": [
        "\r\n",
        "def norm_value(input):\r\n",
        "    norm = []\r\n",
        "\r\n",
        "    for i in input['standard_value']:\r\n",
        "        if float(i) > 100000000:\r\n",
        "          i = 100000000\r\n",
        "        norm.append(i)\r\n",
        "\r\n",
        "    input['standard_value_norm'] = norm\r\n",
        "    x = input.drop('standard_value', 1)\r\n",
        "        \r\n",
        "    return x"
      ],
      "execution_count": null,
      "outputs": []
    },
    {
      "cell_type": "code",
      "metadata": {
        "colab": {
          "base_uri": "https://localhost:8080/",
          "height": 578
        },
        "id": "vEdwr-H1PvbH",
        "outputId": "c0336cd2-0fa9-4f16-ff82-28d8bb35691d"
      },
      "source": [
        "norm_value(grouped_data)"
      ],
      "execution_count": null,
      "outputs": [
        {
          "output_type": "execute_result",
          "data": {
            "text/html": [
              "<div>\n",
              "<style scoped>\n",
              "    .dataframe tbody tr th:only-of-type {\n",
              "        vertical-align: middle;\n",
              "    }\n",
              "\n",
              "    .dataframe tbody tr th {\n",
              "        vertical-align: top;\n",
              "    }\n",
              "\n",
              "    .dataframe thead th {\n",
              "        text-align: right;\n",
              "    }\n",
              "</style>\n",
              "<table border=\"1\" class=\"dataframe\">\n",
              "  <thead>\n",
              "    <tr style=\"text-align: right;\">\n",
              "      <th></th>\n",
              "      <th>molecule_chembl_id</th>\n",
              "      <th>canonical_smiles</th>\n",
              "      <th>0</th>\n",
              "      <th>MW</th>\n",
              "      <th>LogP</th>\n",
              "      <th>NumHDonors</th>\n",
              "      <th>NumHAcceptors</th>\n",
              "      <th>standard_value_norm</th>\n",
              "    </tr>\n",
              "  </thead>\n",
              "  <tbody>\n",
              "    <tr>\n",
              "      <th>0</th>\n",
              "      <td>CHEMBL324340</td>\n",
              "      <td>Cc1ccc2oc(-c3cccc(N4C(=O)c5ccc(C(=O)O)cc5C4=O)...</td>\n",
              "      <td>intermediate</td>\n",
              "      <td>398.374</td>\n",
              "      <td>4.30202</td>\n",
              "      <td>1.0</td>\n",
              "      <td>5.0</td>\n",
              "      <td>2500.0</td>\n",
              "    </tr>\n",
              "    <tr>\n",
              "      <th>1</th>\n",
              "      <td>CHEMBL324340</td>\n",
              "      <td>Cc1ccc2oc(-c3cccc(N4C(=O)c5ccc(C(=O)O)cc5C4=O)...</td>\n",
              "      <td>inactive</td>\n",
              "      <td>398.374</td>\n",
              "      <td>4.30202</td>\n",
              "      <td>1.0</td>\n",
              "      <td>5.0</td>\n",
              "      <td>50000.0</td>\n",
              "    </tr>\n",
              "    <tr>\n",
              "      <th>2</th>\n",
              "      <td>CHEMBL109600</td>\n",
              "      <td>COc1ccccc1-c1ccc2oc(-c3ccc(OC)c(N4C(=O)c5ccc(C...</td>\n",
              "      <td>intermediate</td>\n",
              "      <td>520.497</td>\n",
              "      <td>5.67780</td>\n",
              "      <td>1.0</td>\n",
              "      <td>7.0</td>\n",
              "      <td>9000.0</td>\n",
              "    </tr>\n",
              "    <tr>\n",
              "      <th>3</th>\n",
              "      <td>CHEMBL357278</td>\n",
              "      <td>Cc1nc2cc(OC[C@H](O)CN3CCN(CC(=O)Nc4ccc(Cl)c(C(...</td>\n",
              "      <td>intermediate</td>\n",
              "      <td>543.011</td>\n",
              "      <td>4.27292</td>\n",
              "      <td>2.0</td>\n",
              "      <td>7.0</td>\n",
              "      <td>4000.0</td>\n",
              "    </tr>\n",
              "    <tr>\n",
              "      <th>4</th>\n",
              "      <td>CHEMBL357119</td>\n",
              "      <td>Cc1nc2cc(OC[C@H](O)CN3CCN(CC(=O)NCCc4ccccc4)CC...</td>\n",
              "      <td>inactive</td>\n",
              "      <td>468.623</td>\n",
              "      <td>2.32092</td>\n",
              "      <td>2.0</td>\n",
              "      <td>7.0</td>\n",
              "      <td>17000.0</td>\n",
              "    </tr>\n",
              "    <tr>\n",
              "      <th>...</th>\n",
              "      <td>...</td>\n",
              "      <td>...</td>\n",
              "      <td>...</td>\n",
              "      <td>...</td>\n",
              "      <td>...</td>\n",
              "      <td>...</td>\n",
              "      <td>...</td>\n",
              "      <td>...</td>\n",
              "    </tr>\n",
              "    <tr>\n",
              "      <th>967</th>\n",
              "      <td>CHEMBL87187</td>\n",
              "      <td>Nc1cccc(-c2ccc(CCN3CCN(c4cccc5cccnc45)CC3)cc2)n1</td>\n",
              "      <td>active</td>\n",
              "      <td>409.537</td>\n",
              "      <td>4.24370</td>\n",
              "      <td>1.0</td>\n",
              "      <td>5.0</td>\n",
              "      <td>130.0</td>\n",
              "    </tr>\n",
              "    <tr>\n",
              "      <th>968</th>\n",
              "      <td>CHEMBL87187</td>\n",
              "      <td>Nc1cccc(-c2ccc(CCN3CCN(c4cccc5cccnc45)CC3)cc2)n1</td>\n",
              "      <td>active</td>\n",
              "      <td>409.537</td>\n",
              "      <td>4.24370</td>\n",
              "      <td>1.0</td>\n",
              "      <td>5.0</td>\n",
              "      <td>212.0</td>\n",
              "    </tr>\n",
              "    <tr>\n",
              "      <th>969</th>\n",
              "      <td>CHEMBL87187</td>\n",
              "      <td>Nc1cccc(-c2ccc(CCN3CCN(c4cccc5cccnc45)CC3)cc2)n1</td>\n",
              "      <td>active</td>\n",
              "      <td>409.537</td>\n",
              "      <td>4.24370</td>\n",
              "      <td>1.0</td>\n",
              "      <td>5.0</td>\n",
              "      <td>825.0</td>\n",
              "    </tr>\n",
              "    <tr>\n",
              "      <th>970</th>\n",
              "      <td>CHEMBL62565</td>\n",
              "      <td>c1cnc(N2CCN(Cc3cccc4c3sc3ccccc34)CC2)nc1</td>\n",
              "      <td>active</td>\n",
              "      <td>360.486</td>\n",
              "      <td>4.16670</td>\n",
              "      <td>0.0</td>\n",
              "      <td>5.0</td>\n",
              "      <td>100.0</td>\n",
              "    </tr>\n",
              "    <tr>\n",
              "      <th>971</th>\n",
              "      <td>CHEMBL120853</td>\n",
              "      <td>C[C@@H]1C(=O)N(C(=O)NCc2ccccc2)[C@@H]1Oc1ccc(C...</td>\n",
              "      <td>inactive</td>\n",
              "      <td>354.362</td>\n",
              "      <td>2.47780</td>\n",
              "      <td>2.0</td>\n",
              "      <td>4.0</td>\n",
              "      <td>100000.0</td>\n",
              "    </tr>\n",
              "  </tbody>\n",
              "</table>\n",
              "<p>972 rows × 8 columns</p>\n",
              "</div>"
            ],
            "text/plain": [
              "    molecule_chembl_id  ... standard_value_norm\n",
              "0         CHEMBL324340  ...              2500.0\n",
              "1         CHEMBL324340  ...             50000.0\n",
              "2         CHEMBL109600  ...              9000.0\n",
              "3         CHEMBL357278  ...              4000.0\n",
              "4         CHEMBL357119  ...             17000.0\n",
              "..                 ...  ...                 ...\n",
              "967        CHEMBL87187  ...               130.0\n",
              "968        CHEMBL87187  ...               212.0\n",
              "969        CHEMBL87187  ...               825.0\n",
              "970        CHEMBL62565  ...               100.0\n",
              "971       CHEMBL120853  ...            100000.0\n",
              "\n",
              "[972 rows x 8 columns]"
            ]
          },
          "metadata": {
            "tags": []
          },
          "execution_count": 66
        }
      ]
    },
    {
      "cell_type": "code",
      "metadata": {
        "colab": {
          "base_uri": "https://localhost:8080/"
        },
        "id": "IwjzHb2zQUzR",
        "outputId": "64d2594e-ded0-4e7e-dd05-af50b91b43b4"
      },
      "source": [
        "a=[]\r\n",
        "for i in data1['standard_value']:\r\n",
        "    a.append(float(i))\r\n",
        "sum(a)/len(a)"
      ],
      "execution_count": null,
      "outputs": [
        {
          "output_type": "execute_result",
          "data": {
            "text/plain": [
              "2667621.103321869"
            ]
          },
          "metadata": {
            "tags": []
          },
          "execution_count": 59
        }
      ]
    },
    {
      "cell_type": "code",
      "metadata": {
        "id": "VyziDz0GPpAr"
      },
      "source": [
        "import seaborn as sb\r\n",
        "import matplotlib.pyplot as plt\r\n"
      ],
      "execution_count": null,
      "outputs": []
    },
    {
      "cell_type": "code",
      "metadata": {
        "id": "a3kH2Ar1LdRE"
      },
      "source": [
        "grouped_data['bioactivity_class']= grouped_data[0]"
      ],
      "execution_count": null,
      "outputs": []
    },
    {
      "cell_type": "code",
      "metadata": {
        "id": "ornhS18BKxVC"
      },
      "source": [
        "plt.figure(figsize=(5.5, 5.5))\r\n",
        "sb.countplot(x='bioactivity_class', data=grouped_data, edgecolor='black')"
      ],
      "execution_count": null,
      "outputs": []
    },
    {
      "cell_type": "code",
      "metadata": {
        "colab": {
          "base_uri": "https://localhost:8080/",
          "height": 606
        },
        "id": "3VGJ2bGRLOuo",
        "outputId": "a5f7b3ab-f411-4dfa-bce0-cb3e1259844e"
      },
      "source": [
        "plt.figure(figsize=(10,10))\r\n",
        "sb.scatterplot(data=grouped_data,x='MW',y='LogP',hue='bioactivity_class')\r\n",
        "plt.savefig('scatter.pdf')"
      ],
      "execution_count": null,
      "outputs": [
        {
          "output_type": "display_data",
          "data": {
            "image/png": "[encoded data removed]",
            "text/plain": [
              "<Figure size 720x720 with 1 Axes>"
            ]
          },
          "metadata": {
            "tags": [],
            "needs_background": "light"
          }
        }
      ]
    },
    {
      "cell_type": "code",
      "metadata": {
        "id": "wiSkHgV2VO-o"
      },
      "source": [
        "grouped_data['standard_value_norm']=pd.to_numeric(grouped_data['standard_value_norm'])\r\n",
        "grouped_data['standard_value_norm']=np.log10(grouped_data['standard_value_norm'])\r\n"
      ],
      "execution_count": null,
      "outputs": []
    },
    {
      "cell_type": "code",
      "metadata": {
        "id": "KIR50x2sMP0M"
      },
      "source": [
        "plt.figure(figsize=(5.5, 5.5))\r\n",
        "sb.boxplot(x = 'bioactivity_class', y = 'standard_value_norm', data = grouped_data)\r\n"
      ],
      "execution_count": null,
      "outputs": []
    },
    {
      "cell_type": "code",
      "metadata": {
        "id": "PVhd13bUX5NK"
      },
      "source": [
        "sb.heatmap(grouped_data.corr())\r\n",
        "plt.savefig('kibakibi.pdf')"
      ],
      "execution_count": null,
      "outputs": []
    },
    {
      "cell_type": "code",
      "metadata": {
        "id": "Iw290EYpYLsv"
      },
      "source": [
        "plt.figure(figsize=(5.5, 5.5))\r\n",
        "sb.boxplot(x = 'bioactivity_class', y = 'MW', data = grouped_data)\r\n",
        "plt.savefig('class&MW.png')"
      ],
      "execution_count": null,
      "outputs": []
    },
    {
      "cell_type": "code",
      "metadata": {
        "id": "7BcqVn6dbaNu"
      },
      "source": [
        "plt.figure(figsize=(5.5, 5.5))\r\n",
        "sb.boxplot(x = 'bioactivity_class', y = 'LogP', data = grouped_data)\r\n",
        "plt.savefig('class&LogP.png')"
      ],
      "execution_count": null,
      "outputs": []
    },
    {
      "cell_type": "code",
      "metadata": {
        "id": "6qWpkyMmcDgA"
      },
      "source": [
        "plt.figure(figsize=(5.5, 5.5))\r\n",
        "sb.boxplot(x = 'bioactivity_class', y = 'NumHDonors', data = grouped_data)\r\n",
        "plt.savefig('class&HDonor.png')"
      ],
      "execution_count": null,
      "outputs": []
    },
    {
      "cell_type": "code",
      "metadata": {
        "id": "IF_PzUnwcTzE"
      },
      "source": [
        "plt.figure(figsize=(5.5, 5.5))\r\n",
        "sb.boxplot(x = 'bioactivity_class', y = 'NumHAcceptors', data = grouped_data)\r\n",
        "plt.savefig('class&HAcceptor.png')"
      ],
      "execution_count": null,
      "outputs": []
    },
    {
      "cell_type": "code",
      "metadata": {
        "id": "3Zb_ZxEtc1A7"
      },
      "source": [
        "def mannwhitney(descriptor,df_2class, verbose=False):\r\n",
        "  # https://machinelearningmastery.com/nonparametric-statistical-significance-tests-in-python/\r\n",
        "  from numpy.random import seed\r\n",
        "  from numpy.random import randn\r\n",
        "  from scipy.stats import mannwhitneyu\r\n",
        "\r\n",
        "# seed the random number generator\r\n",
        "  seed(1)\r\n",
        "\r\n",
        "# actives and inactives\r\n",
        "  selection = [descriptor, 'bioactivity_class']\r\n",
        "  df = df_2class[selection]\r\n",
        "  active = df[df.bioactivity_class == 'active']\r\n",
        "  active = active[descriptor]\r\n",
        "\r\n",
        "  selection = [descriptor, 'bioactivity_class']\r\n",
        "  df = df_2class[selection]\r\n",
        "  inactive = df[df.bioactivity_class == 'inactive']\r\n",
        "  inactive = inactive[descriptor]\r\n",
        "\r\n",
        "# compare samples\r\n",
        "  stat, p = mannwhitneyu(active, inactive)\r\n",
        "  #print('Statistics=%.3f, p=%.3f' % (stat, p))\r\n",
        "\r\n",
        "# interpret\r\n",
        "  alpha = 0.05\r\n",
        "  if p > alpha:\r\n",
        "    interpretation = 'Same distribution (fail to reject H0)'\r\n",
        "  else:\r\n",
        "    interpretation = 'Different distribution (reject H0)'\r\n",
        "  \r\n",
        "  results = pd.DataFrame({'Descriptor':descriptor,\r\n",
        "                          'Statistics':stat,\r\n",
        "                          'p':p,\r\n",
        "                          'alpha':alpha,\r\n",
        "                          'Interpretation':interpretation}, index=[0])\r\n",
        "  filename = 'mannwhitneyu_' + descriptor + '.csv'\r\n",
        "  \r\n",
        "\r\n",
        "  return results"
      ],
      "execution_count": null,
      "outputs": []
    },
    {
      "cell_type": "code",
      "metadata": {
        "id": "hZegfllddXqb"
      },
      "source": [
        "a=mannwhitney('MW', grouped_data)\r\n",
        "b=mannwhitney('LogP', grouped_data)\r\n",
        "c=mannwhitney('NumHDonors', grouped_data)\r\n",
        "d=mannwhitney('NumHAcceptors', grouped_data)\r\n",
        "e=mannwhitney('standard_value_norm', grouped_data)"
      ],
      "execution_count": null,
      "outputs": []
    },
    {
      "cell_type": "code",
      "metadata": {
        "id": "ocCMz38Sdk4Q"
      },
      "source": [
        "Whittney_test = pd.concat([a,b,c,d,e], axis=0)"
      ],
      "execution_count": null,
      "outputs": []
    },
    {
      "cell_type": "code",
      "metadata": {
        "id": "4VbUFIGjgAAo"
      },
      "source": [
        "Whittney_test.to_csv('Whittney_test_results.csv')"
      ],
      "execution_count": null,
      "outputs": []
    },
    {
      "cell_type": "code",
      "metadata": {
        "id": "WzeNtrWagOkt"
      },
      "source": [
        "! zip -r results.zip . -i *.csv *.pdf *.png"
      ],
      "execution_count": null,
      "outputs": []
    },
    {
      "cell_type": "code",
      "metadata": {
        "id": "89gXirM-g-Z1"
      },
      "source": [
        ""
      ],
      "execution_count": null,
      "outputs": []
    }
  ]
}